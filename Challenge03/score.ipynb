{
 "cells": [
  {
   "cell_type": "code",
   "execution_count": null,
   "metadata": {},
   "outputs": [],
   "source": [
    "\"\"\"\n",
    "Copyright (C) Microsoft Corporation. All rights reserved.​\n",
    " ​\n",
    "Microsoft Corporation (“Microsoft”) grants you a nonexclusive, perpetual,\n",
    "royalty-free right to use, copy, and modify the software code provided by us\n",
    "(\"Software Code\"). You may not sublicense the Software Code or any use of it\n",
    "(except to your affiliates and to vendors to perform work on your behalf)\n",
    "through distribution, network access, service agreement, lease, rental, or\n",
    "otherwise. This license does not purport to express any claim of ownership over\n",
    "data you may have shared with Microsoft in the creation of the Software Code.\n",
    "Unless applicable law gives you more rights, Microsoft reserves all other\n",
    "rights not expressly granted herein, whether by implication, estoppel or\n",
    "otherwise. ​\n",
    " ​\n",
    "THE SOFTWARE CODE IS PROVIDED “AS IS”, WITHOUT WARRANTY OF ANY KIND, EXPRESS\n",
    "OR IMPLIED, INCLUDING BUT NOT LIMITED TO THE WARRANTIES OF MERCHANTABILITY,\n",
    "FITNESS FOR A PARTICULAR PURPOSE AND NONINFRINGEMENT. IN NO EVENT SHALL\n",
    "MICROSOFT OR ITS LICENSORS BE LIABLE FOR ANY DIRECT, INDIRECT, INCIDENTAL,\n",
    "SPECIAL, EXEMPLARY, OR CONSEQUENTIAL DAMAGES (INCLUDING, BUT NOT LIMITED TO,\n",
    "PROCUREMENT OF SUBSTITUTE GOODS OR SERVICES; LOSS OF USE, DATA, OR PROFITS; OR\n",
    "BUSINESS INTERRUPTION) HOWEVER CAUSED AND ON ANY THEORY OF LIABILITY, WHETHER\n",
    "IN CONTRACT, STRICT LIABILITY, OR TORT (INCLUDING NEGLIGENCE OR OTHERWISE)\n",
    "ARISING IN ANY WAY OUT OF THE USE OF THE SOFTWARE CODE, EVEN IF ADVISED OF THE\n",
    "POSSIBILITY OF SUCH DAMAGE.\n",
    "\"\"\"\n",
    "import json\n",
    "import numpy\n",
    "from azureml.core.model import Model\n",
    "import joblib"
   ]
  },
  {
   "cell_type": "code",
   "execution_count": null,
   "metadata": {},
   "outputs": [],
   "source": [
    "def init():\n",
    "    global LGBM_MODEL\n",
    "    # Load the model from file into a global object\n",
    "    model_path = Model.get_model_path(\n",
    "        model_name=\"lgbm_binary_model.pkl\")\n",
    "    LGBM_MODEL = joblib.load(model_path)"
   ]
  },
  {
   "cell_type": "code",
   "execution_count": null,
   "metadata": {},
   "outputs": [],
   "source": [
    "def run(raw_data, request_headers):\n",
    "    data = json.loads(raw_data)[\"data\"]\n",
    "    data = numpy.array(data)\n",
    "    result = LGBM_MODEL.predict(data)\n",
    "\n",
    "    # Demonstrate how we can log custom data into the Application Insights\n",
    "    # traces collection.\n",
    "    # The 'X-Ms-Request-id' value is generated internally and can be used to\n",
    "    # correlate a log entry with the Application Insights requests collection.\n",
    "    # The HTTP 'traceparent' header may be set by the caller to implement\n",
    "    # distributed tracing (per the W3C Trace Context proposed specification)\n",
    "    # and can be used to correlate the request to external systems.\n",
    "    print(('{{\"RequestId\":\"{0}\", '\n",
    "           '\"TraceParent\":\"{1}\", '\n",
    "           '\"NumberOfPredictions\":{2}}}'\n",
    "           ).format(\n",
    "               request_headers.get(\"X-Ms-Request-Id\", \"\"),\n",
    "               request_headers.get(\"Traceparent\", \"\"),\n",
    "               len(result)\n",
    "    ))\n",
    "\n",
    "    return {\"result\": result.tolist()}"
   ]
  },
  {
   "cell_type": "code",
   "execution_count": null,
   "metadata": {},
   "outputs": [],
   "source": [
    "if __name__ == \"__main__\":\n",
    "    # Test scoring\n",
    "    init()\n",
    "    #TEST_ROW = '{\"data\":[[0,1,8,1,0,0,1,0,0,0,0,0,0,0,12,1,0,0,0.5,0.3,0.610327781,7,1,-1,0,-1,1,1,1,2,1,65,1,0.316227766,0.669556409,0.352136337,3.464101615,0.1,0.8,0.6,1,1,6,3,6,2,9,1,1,1,12,0,1,1,0,0,1],[4,2,5,1,0,0,0,0,1,0,0,0,0,0,5,1,0,0,0.9,0.5,0.771362431,4,1,-1,0,0,11,1,1,0,1,103,1,0.316227766,0.60632002,0.358329457,2.828427125,0.4,0.5,0.4,3,3,8,4,10,2,7,2,0,3,10,0,0,1,1,0,1]]}'  # NOQA: E501\n",
    "    TEST_ROW = '{\"data\": [[0,1,8,1,0,0,1,0,0,0,0,0,0,0,12,1,0,0,0.5,0.3,0.610327781,7,1,-1,0,-1,1,1,1,2,1,65,1,0.316227766,0.669556409,0.352136337,3.464101615,0.1,0.8,0.6,1,1,6,3,6,2,9,1,1,1,12,0,1,1,0,0,1],[4,2,5,1,0,0,0,0,1,0,0,0,0,0,5,1,0,0,0.9,0.5,0.771362431,4,1,-1,0,0,11,1,1,0,1,103,1,0.316227766,0.60632002,0.358329457,2.828427125,0.4,0.5,0.4,3,3,8,4,10,2,7,2,0,3,10,0,0,1,1,0,1]]}'\n",
    "    PREDICTION = run(TEST_ROW, {})\n",
    "    print(\"Test result: \", PREDICTION)"
   ]
  },
  {
   "cell_type": "code",
   "execution_count": null,
   "metadata": {},
   "outputs": [],
   "source": []
  }
 ],
 "metadata": {
  "jupytext": {
   "cell_metadata_filter": "-all",
   "encoding": "# -*- coding: utf-8 -*-",
   "notebook_metadata_filter": "-all",
   "text_representation": {
    "extension": ".py",
    "format_name": "light"
   }
  },
  "kernelspec": {
   "display_name": "Python 3.6 - AzureML",
   "language": "python",
   "name": "python3-azureml"
  }
 },
 "nbformat": 4,
 "nbformat_minor": 4
}
